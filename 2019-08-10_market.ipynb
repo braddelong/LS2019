{
 "cells": [
  {
   "cell_type": "markdown",
   "metadata": {},
   "source": [
    "# <font color=\"880000\"> A Competitive Market </font>\n",
    "\n",
    "Last edited: 2019-08-17\n",
    "\n",
    "A Python class for a simple one good market where agents are price takers.\n",
    "\n",
    "The market consists of the following objects:\n",
    "\n",
    "A linear demand curve:\n",
    "\n",
    "> (1) $ P_d = WTP_{max} - d*Q_d   $\n",
    "\n",
    "A linear supply curve:\n",
    "\n",
    "> (2) $ P_s = OC_{min} + s*Q_s  $\n",
    "\n",
    "$P_d$ is the price paid by the consumer. $P_s$ is the price received by the producer. $Q_d$ is the quantity the consumer wishes to purchase at their price. $Q_s$ is the quantity the producer wishes to supply at their price. $WTP_{max}$ is the maximum willingness-to-pay of any consumer—the y-intercept of the demand curve. $OC_{min}$ is the minimum opportunity cost of any producer—the y-intercept of the supply curve. s is the slope of the supply curve. d is the slope of the demand curve.\n",
    "\n",
    "The class provides methods to compute competitive equilibrium price and quantity, supply and demand curves, consumer surplus and producer surplus, and total surplus.\n",
    "\n",
    "Here is the implementation:"
   ]
  },
  {
   "cell_type": "code",
   "execution_count": 13,
   "metadata": {},
   "outputs": [],
   "source": [
    "class market:\n",
    "\n",
    "    def __init__(self, WTPmax, OCmin, d, s):\n",
    "        \"\"\"\n",
    "        Set up market parameters. 𝑊𝑇𝑃𝑚𝑎𝑥 is the maximum willingness-to-pay \n",
    "        of any consumer—the y-intercept of the demand curve. 𝑂𝐶𝑚𝑖𝑛 is the \n",
    "        minimum opportunity cost of any producer—the y-intercept of the \n",
    "        supply curve. s is the slope of the supply curve. d is the slope \n",
    "        of the demand curve...\n",
    "        \"\"\"\n",
    "        \n",
    "        self.WTPmax, self.OCmin, self.d, self.s = WTPmax, OCmin, d, s\n",
    "        \n",
    "        if WTPmax < OCmin:\n",
    "            raise ValueError('Insufficient demand.')\n",
    "\n",
    "    def equilibrium_quantity(self):\n",
    "        \"Compute equilibrium quantity\"\n",
    "        return  (self.WTPmax - self.OCmin)/(self.d + self.s)\n",
    "\n",
    "\n",
    "    def equilibrium_price(self):\n",
    "        \"Return equilibrium price\"\n",
    "        return  self.WTPmax - self.d * self.equilibrium_quantity()\n",
    "\n",
    "\n",
    "    def consumer_surplus(self):\n",
    "        \"Compute consumer surplus\"\n",
    "        return (self.WTPmax - self.equilibrium_price())*self.equilibrium_quantity()/2\n",
    "\n",
    "    def producer_surplus(self):\n",
    "        \"Compute producer surplus\"\n",
    "        return (self.equilibrium_price() - self.OCmin) * self.equilibrium_quantity() /2\n",
    "\n",
    "    def total_surplus(self):\n",
    "        \"Compute total surplus\"\n",
    "        return self.producer_surplus() + self.consumer_surplus()\n",
    "    \n",
    "    def demand_curve(self,x):\n",
    "        \"Compute demand curve\"\n",
    "        return self.WTPmax - self.d*x\n",
    "        \n",
    "    def supply_curve(self,x):\n",
    "        \"Compute supply curve\"\n",
    "        return self.OCmin + self.s*x"
   ]
  },
  {
   "cell_type": "code",
   "execution_count": 16,
   "metadata": {},
   "outputs": [
    {
     "data": {
      "image/png": "[encoded data removed]",
      "text/plain": [
       "<Figure size 432x288 with 1 Axes>"
      ]
     },
     "metadata": {
      "needs_background": "light"
     },
     "output_type": "display_data"
    }
   ],
   "source": [
    "import numpy as np\n",
    "import matplotlib.pyplot as plt\n",
    "%matplotlib inline\n",
    "\n",
    "# Baseline WTPmax, OCmin, d, s\n",
    "baseline_params = 10,0,1,1\n",
    "m = market(*baseline_params)\n",
    "\n",
    "q_max = m.equilibrium_quantity() * 2\n",
    "q_grid = np.linspace(0.0, q_max, 100)\n",
    "pd = m.demand_curve(q_grid)\n",
    "ps = m.supply_curve(q_grid)\n",
    "\n",
    "fig, ax = plt.subplots()\n",
    "ax.plot(q_grid, pd, lw=2, alpha=0.6, label='demand')\n",
    "ax.plot(q_grid, ps, lw=2, alpha=0.6, label='supply')\n",
    "ax.set_xlabel('quantity', fontsize=14)\n",
    "ax.set_xlim(0, q_max)\n",
    "ax.set_ylabel('price', fontsize=14)\n",
    "ax.legend(loc='lower right', frameon=False, fontsize=14)\n",
    "ax.set(title='Market Supply, Demand, and Equilibrium')\n",
    "plt.show()"
   ]
  },
  {
   "cell_type": "code",
   "execution_count": 14,
   "metadata": {},
   "outputs": [
    {
     "name": "stdout",
     "output_type": "stream",
     "text": [
      "12.5 = producer surplus\n",
      "12.5 = consumer surplus\n",
      "25.0 = total surplus\n",
      "5.0 = equilibrium quantity\n",
      "5.0 = equilibrium price\n"
     ]
    }
   ],
   "source": [
    "import numpy as np\n",
    "import matplotlib.pyplot as plt\n",
    "%matplotlib inline\n",
    "\n",
    "# Baseline WTPmax, OCmin, d, s\n",
    "baseline_params = 10,0,1,1\n",
    "m = market(*baseline_params)\n",
    "\n",
    "print(m.producer_surplus(), \"= producer surplus\")\n",
    "print(m.consumer_surplus(), \"= consumer surplus\")\n",
    "print(m.total_surplus(), \"= total surplus\")\n",
    "print(m.equilibrium_quantity(), \"= equilibrium quantity\")\n",
    "print(m.equilibrium_price(), \"= equilibrium price\")"
   ]
  },
  {
   "cell_type": "markdown",
   "metadata": {},
   "source": [
    "----\n",
    "\n",
    "&nbsp;\n",
    "\n",
    "## <font color=\"880000\"> A Competitive Market </font>\n",
    "\n",
    "<img src=\"https://tinyurl.com/20190119a-delong\" width=\"300\" style=\"float:right\" />\n",
    "\n",
    "### <font color=\"000088\">Catch Our Breath—Further Notes:</font>\n",
    "\n",
    "<br clear=\"all\" />\n",
    "\n",
    "----\n",
    "\n",
    "* Weblog Support <https://github.com/braddelong/LS2019/blob/master/2019-08-10_market.ipynb>\n",
    "* nbViewer <https://nbviewer.jupyter.org/github.com/braddelong/LS2019/blob/master/2019-08-10_market.ipynb>\n",
    "\n",
    "&nbsp;\n",
    "\n",
    "----"
   ]
  }
 ],
 "metadata": {
  "kernelspec": {
   "display_name": "Python 3",
   "language": "python",
   "name": "python3"
  },
  "language_info": {
   "codemirror_mode": {
    "name": "ipython",
    "version": 3
   },
   "file_extension": ".py",
   "mimetype": "text/x-python",
   "name": "python",
   "nbconvert_exporter": "python",
   "pygments_lexer": "ipython3",
   "version": "3.6.7"
  }
 },
 "nbformat": 4,
 "nbformat_minor": 4
}
