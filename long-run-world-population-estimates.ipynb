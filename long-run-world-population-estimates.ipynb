{
 "cells": [
  {
   "cell_type": "markdown",
   "metadata": {},
   "source": [
    "#### Long-Run World Population Estimates\n",
    "\n",
    "### Python Programming and Data Setup"
   ]
  },
  {
   "cell_type": "code",
   "execution_count": 3,
   "metadata": {},
   "outputs": [],
   "source": [
    "# import libraries...\n",
    "\n",
    "import pandas as pd\n",
    "import numpy as np\n",
    "import math\n",
    "import time\n",
    "\n",
    "import copy\n",
    "import itertools\n",
    "from itertools import chain, combinations\n",
    "# from linearmodels.iv import IV2SLS\n",
    "import matplotlib.pyplot as plt\n",
    "import scipy.stats as scipystats\n",
    "import seaborn as sns\n",
    "# from sklearn.cross_validation import train_test_split\n",
    "import statsmodels.api as sm\n",
    "import statsmodels.formula.api as smf\n",
    "from statsmodels.graphics.regressionplots import *\n",
    "from statsmodels.iolib.summary2 import summary_col\n",
    "import statsmodels.stats as stats \n",
    "import statsmodels.stats.stattools as stools\n",
    "\n",
    "%matplotlib inline\n",
    "\n",
    "plt.style.use('seaborn')"
   ]
  },
  {
   "cell_type": "code",
   "execution_count": 4,
   "metadata": {},
   "outputs": [
    {
     "name": "stdout",
     "output_type": "stream",
     "text": [
      "             Year  Human Population (Millions)  Human Population Growth Rate  \\\n",
      "year_index                                                                     \n",
      "-73000     -73000                         0.01                           NaN   \n",
      "-63000     -63000                         0.10                      0.000230   \n",
      "-53000     -53000                         0.13                      0.000030   \n",
      "-43000     -43000                         0.18                      0.000030   \n",
      "-33000     -33000                         0.39                      0.000075   \n",
      "...           ...                          ...                           ...   \n",
      " 1980        1980                      4450.00                      0.018457   \n",
      " 1990        1990                      5300.00                      0.017480   \n",
      " 2000        2000                      6200.00                      0.015684   \n",
      " 2010        2010                      7000.00                      0.012136   \n",
      " 2020        2020                      7700.00                      0.009531   \n",
      "\n",
      "            Population Interpolated?  Average Real Income Per Capita  \\\n",
      "year_index                                                             \n",
      "-73000                             0                             NaN   \n",
      "-63000                             0                          1200.0   \n",
      "-53000                             1                          1200.0   \n",
      "-43000                             1                          1200.0   \n",
      "-33000                             1                          1200.0   \n",
      "...                              ...                             ...   \n",
      " 1980                              0                          6421.0   \n",
      " 1990                              0                          7476.0   \n",
      " 2000                              0                          8705.0   \n",
      " 2010                              0                         10135.0   \n",
      " 2020                              0                         11800.0   \n",
      "\n",
      "            Real Income Growth Rate  Income Interpolated?  \n",
      "year_index                                                 \n",
      "-73000                          NaN                     0  \n",
      "-63000                     0.000000                     1  \n",
      "-53000                     0.000000                     1  \n",
      "-43000                     0.000000                     1  \n",
      "-33000                     0.000000                     1  \n",
      "...                             ...                   ...  \n",
      " 1980                      0.015212                     1  \n",
      " 1990                      0.015212                     1  \n",
      " 2000                      0.015212                     1  \n",
      " 2010                      0.015212                     1  \n",
      " 2020                      0.015212                     0  \n",
      "\n",
      "[67 rows x 7 columns]\n"
     ]
    }
   ],
   "source": [
    "long_run_population_df = pd.read_csv(\n",
    "    'https://delong.typepad.com/world-population-and-income-delong.csv'\n",
    ")\n",
    "\n",
    "long_run_population_df['year_index'] = long_run_population_df['Year']\n",
    "long_run_population_df.set_index('year_index', inplace=True)\n",
    "\n",
    "long_run_population_dict = {\n",
    "                        'df': long_run_population_df, \n",
    "                        'csv_url': 'https://delong.typepad.com/world-population-and-income-delong.csv', \n",
    "                        'title': 'Long Run Population Estimates', \n",
    "                        'source_url': 'https://www.icloud.com/numbers/04PaQHeujdlFIL3wn56PDM1bA', \n",
    "                        'note': ' '\n",
    "                             }\n",
    "\n",
    "print(long_run_population_df)\n",
    "# long_run_population_df.head()"
   ]
  },
  {
   "cell_type": "markdown",
   "metadata": {},
   "source": [
    "&nbsp;\n",
    "\n",
    "# Long-Run World Population Estimates\n",
    "\n",
    "&nbsp;\n",
    "\n",
    "----\n",
    "\n",
    "&nbsp;"
   ]
  }
 ],
 "metadata": {
  "kernelspec": {
   "display_name": "Python 3",
   "language": "python",
   "name": "python3"
  },
  "language_info": {
   "codemirror_mode": {
    "name": "ipython",
    "version": 3
   },
   "file_extension": ".py",
   "mimetype": "text/x-python",
   "name": "python",
   "nbconvert_exporter": "python",
   "pygments_lexer": "ipython3",
   "version": "3.7.4"
  }
 },
 "nbformat": 4,
 "nbformat_minor": 4
}
