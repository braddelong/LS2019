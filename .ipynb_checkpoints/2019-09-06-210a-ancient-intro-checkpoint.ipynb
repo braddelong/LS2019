{
 "cells": [
  {
   "cell_type": "markdown",
   "metadata": {},
   "source": [
    "## <font color=\"880000\"> Modeling a Pre-Industrial Economy</font>"
   ]
  },
  {
   "cell_type": "markdown",
   "metadata": {},
   "source": [
    "### <font color=\"000088\"> The Solow Model </font>\n",
    "\n",
    "In the standard Solow growth model, total output and income Y is:\n",
    "\n",
    ">(1) $ Y = (\\kappa)^\\theta E L $\n",
    "\n",
    "where $ E $ is the efficiency of labor, $ L $ is the labor force, $ \\kappa $ is the capital-output ratio $ \\kappa = K/L $, and the parameter $ \\theta $ is a transform of the more usual Cobb-Douglas constant-returns-to-scale $ \\alpha $, with $ \\theta = \\alpha / (1 - \\alpha ) $. Along this model's steady-state growth path:\n",
    "\n",
    ">(2) $ Y^* = \\left(\\kappa^* \\right)^\\theta E L $\n",
    "\n",
    "with $ \\kappa^* $ equal to the quotient of the savings-investment share $ s $ and the investment requirements $ n + g + \\delta $, which are the sum of the labor-force growth rate $ n $, the efficiency-of-labor growth rate $ g $, and the depreciation rate $ \\delta $: $ \\kappa^* = s/(n + g + \\delta ) $. With $ \\kappa $ taken as the state variable, for constant $ s, n, g,$ and $ \\delta $, this model economy converges exponentially to its steady state according to:\n",
    "\n",
    ">(3) $ \\frac{d\\kappa}{dt} = - (1-\\alpha)(n+g+\\delta)(\\kappa - \\kappa^*) $"
   ]
  },
  {
   "cell_type": "markdown",
   "metadata": {},
   "source": [
    "### <font color=\"000088\"> Malthusianism: Resource Scarcity, Population, and the Efficiency of Labor </font>\n",
    "\n",
    "Now let's make the model Malthusian: \n",
    "\n",
    "(a) Let's make efficiency-of-labor growth $ g $ a function of the rate $ h $ at which economically useful ideas are generated, but also of the rate of population and labor force growth $ n $, because a higher population makes resources per capita scarce, as determined by an effect-of-resource scarcity parameter $ \\gamma $:\n",
    "\n",
    ">(4) $ \\frac{1}{E} \\frac{dE}{dt} = \\frac{d\\ln(E)}{dt} = g = h - \\frac{n}{\\gamma} $\n",
    "\n",
    "(b) Let's make the rate of growth of the population and labor force depend on the level of prosperity $ y = Y/L $; on the \"subsistence\" standard of living for necessities $y^{sub} $; and also on the fraction $ 1/\\phi $ of production that is devoted to necessities, not conveniences and luxuries, and thus enters into reproductive and survival fitness:\n",
    "\n",
    ">(5) $ \\frac{1}{L} \\frac{dL}{dt} = \\frac{d\\ln(L)}{dt} = n = \\beta  \\left( \\frac{y}{\\phi y^{sub}}-1 \\right) $\n",
    "\n",
    "At high levels of income per worker, we get the \"demographic transition\": population growth then does not speed up but slows down as prsoperity increases, because women learn to read, acquire social power, and begin to use artificial means of birth control for family planning. But neglect that for now.\n",
    "\n",
    "&nbsp;\n",
    "\n",
    "### <font color=\"000088\"> Malthusian Equilibrium </font>\n",
    "\n",
    "We search for a _Malthusian_ equilibrium in which the efficiency-of-labor growth rate $ g = g^{*mal} = 0 $. That then requires that:\n",
    "\n",
    ">(6) $ n^{*mal} = \\gamma h   $\n",
    "\n",
    "which in its turn requires that:\n",
    "\n",
    ">(7) $ y^{*mal} = \\phi y^{sub} \\left( 1 + \\frac{ \\gamma h}{\\beta}\\right) $\n",
    "\n",
    "Since it is also the case that:\n",
    "\n",
    ">(8) $ y^{*mal} = \\left( \\frac{s}{\\gamma h +\\delta} \\right)^\\theta E^{*mal} $\n",
    "\n",
    "and:\n",
    "\n",
    ">(9) $ E = \\frac{H}{L^\\gamma}  $\n",
    "\n",
    "We can solve for the labor force $ L $ as a function of the ideas stock $ H $ and the parameters of the model:\n",
    "\n",
    ">(10) $ \\ln(\\phi) + \\ln\\left( y^{sub} \\right) + \\ln\\left(1 + \\frac{\\gamma h}{\\beta} \\right) = \\theta \\ln(s) - \\theta \\ln(\\gamma h +\\delta) + \\ln(E^{*mal}) $\n",
    "\n",
    ">(11) $ \\ln(y^{sub}) = \\theta \\ln(s) - \\theta \\ln(\\gamma h +\\delta) + \\ln(H) - \\frac{\\ln(L)}{\\gamma} - \\ln(\\phi) - \\ln\\left(1 + \\frac{\\gamma h}{\\beta} \\right)  $\n",
    "\n",
    ">(12) $ \\frac{\\ln(L)}{\\gamma} = \\theta \\ln(s) - \\theta \\ln(\\gamma h +\\delta) + \\ln(H) - \\ln(\\phi) - \\ln( y^{sub}) -ln\\left(1 + \\frac{\\gamma h}{\\beta} \\right) $\n",
    "\n",
    "Thus the population and labor force in the full Malthusian equilibrium will be:\n",
    "\n",
    ">(13) $ \\ln(L^{*mal}) = \\gamma \\left[ \\theta \\ln(s) - \\theta \\ln(\\gamma h +\\delta) + \\ln(H) - \\ln(\\phi) -  \\ln( y^{sub}) -ln\\left(1 + \\frac{\\gamma h}{\\beta} \\right) \\right] $\n",
    "\n",
    "It might be worthwhile decomposing this into terms depending on: (1) the level and rate of growth of the stock of _ideas_; (2) the rule of law, which creates social peace, induces thrift, and thus drives up investment; (3) luxuries, including urbanization, elite consumption, and destruction to maintain order; and (4) demography, in the form of sociological (and law-and-order) determinants of \"subsistence\":\n",
    "\n",
    ">(38) $ \\ln(L^{*mal}) = \\gamma \\left[ \\ln(H)  - \\theta \\ln(\\gamma h +\\delta) -ln\\left(1 + \\frac{\\gamma h}{\\beta} \\right) \\right] +  \\gamma \\left[ \\theta \\ln(s) \\right] -  \\gamma \\left[ \\ln(\\phi) \\right]  - \\gamma \\left[ \\ln( y^{sub}) \\right] $\n",
    "\n",
    "As time passes and knowledge increases, the population and labor would will grow in proportion. And other changes in society that shifted the parameters would raise or lower the Malthusian equilibrium path of the economy.\n",
    "\n",
    "The Malthusian equilibrium level of population is:\n",
    "\n",
    "* raised by increases in the level of economically-useful knowledge $ H_t $\n",
    "* raised by increases in the importance $ \\theta $ of capital accumulation for production\n",
    "* raised by increases in the share of production saved and invested $ s $\n",
    "* lowered by increases in the rate of depreciation $ \\delta $, in the rate of increase of knowledge $ h $, and in the parameter $ \\gamma $ capturing how much resource scarcity reduces the efficiency of labor $ E $\n",
    "* lowered by an increase in the wedge $ \\phi $ between prosperity and subsistence created by spending on luxuries and conveniences (middle-class luxuries that do not affect reproduction, but also the \"luxury\" of having an upper class, and the additional luxuries of living in cities and having trade networks that can spread plagues).\n",
    "* lowered by an increase in basic biological subsistence requirements $ y^{sub} $ (produced by, say, Western European marriage patterns or lineage-family control of reproduction by clan heads).\n",
    "* lowered by an increase in the wedge $ \\gamma h / \\beta $ between basic subsistence and spending on necessities needed to generate population growth consonant with the advance of knowledge and population pressure's generation of resource scarcity.\n",
    "\n",
    "In response to shocks that were to change the Malthusian equilibrium path, the economy would then converge to the new, changed equilibrium.\n",
    "\n",
    "There are no easy formulas for the speed with which it would converge, however...\n",
    "\n",
    "&nbsp;"
   ]
  },
  {
   "cell_type": "markdown",
   "metadata": {},
   "source": [
    "A Python Jupyter Notebook file for simulations of this Malthusian model is available on Github at: <https://github.com/braddelong/LS2019/blob/master/2019-08-17-Ancient_Economies.ipynb>\n",
    "\n",
    "&nbsp;\n",
    "\n",
    "----"
   ]
  },
  {
   "cell_type": "markdown",
   "metadata": {},
   "source": [
    "## <font color=\"880000\"> Modeling a Pre-Industrial Economy </font>\n",
    "\n",
    "<img src=\"https://tinyurl.com/20190119a-delong\" width=\"300\" style=\"float:right\" />\n",
    "\n",
    "### <font color=\"000088\">Catch Our Breath—Further Notes:</font>\n",
    "\n",
    "<br clear=\"all\" />\n",
    "\n",
    "----\n",
    "\n",
    "* Weblog Support <https://github.com/braddelong/LS2019/blob/master/2019-08-17-Ancient_Economies.ipynb>\n",
    "* nbViewer <https://nbviewer.jupyter.org/github/braddelong/LS2019/blob/master/2019-08-17-Ancient_Economies.ipynb>\n",
    "\n",
    "&nbsp;\n",
    "\n"
   ]
  }
 ],
 "metadata": {
  "kernelspec": {
   "display_name": "Python 3",
   "language": "python",
   "name": "python3"
  },
  "language_info": {
   "codemirror_mode": {
    "name": "ipython",
    "version": 3
   },
   "file_extension": ".py",
   "mimetype": "text/x-python",
   "name": "python",
   "nbconvert_exporter": "python",
   "pygments_lexer": "ipython3",
   "version": "3.6.7"
  }
 },
 "nbformat": 4,
 "nbformat_minor": 4
}
