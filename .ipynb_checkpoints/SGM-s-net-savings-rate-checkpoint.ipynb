{
 "cells": [
  {
   "cell_type": "markdown",
   "metadata": {},
   "source": [
    "## <font color=\"880000\"> Solow Growth Model: What If _s_ is the Net Rather than the Gross Savings Rate? </font>\n",
    "\n",
    "Last edited: 2019-08-17\n",
    "\n",
    "Definition of capital-output ratio:\n",
    "\n",
    ">(1) $ κ_t = \\frac{K_t}{Y_t} $\n",
    "\n",
    "Factor accumulation:\n",
    "\n",
    ">(2) $ \\frac{dL_t}{dt} = nL_t $\n",
    "\n",
    ">(3) $ \\frac{dE_t}{dt} = gE_t $\n",
    "\n",
    ">(4) $ \\frac{dK_t}{dt} = s(Y_t - \\delta K_t) $\n",
    "\n",
    ">(5) $ \\frac{dK_t}{dt} = s(1 - \\delta κ_t)Y_t $\n",
    "\n",
    "Production function:\n",
    "\n",
    ">(6) $ Y_t = K_t^α(L_tE_t)^{(1-α)} $\n",
    "\n",
    ">(7) $ Y_t = κ_t^{(α/(1-α))}L_tE_t $\n",
    "\n",
    ">(8) $ κ^* = \\frac{s(1 - \\delta κ^*)}{n+g} $\n",
    "\n",
    ">(9) $ κ^* + \\delta κ^* \\frac{s}{n+g} = \\frac{s}{n+g} $\n",
    "\n",
    ">(10) $ κ^* \\left( \\frac{n + g + \\delta s}{n+g} \\right)  = \\frac{s}{n+g} $\n",
    "\n",
    ">(11) $ κ^* = \\frac{s}{n+g + \\delta s} $\n",
    "\n",
    ">(12) $ Y^*_t = \\left( \\frac{s}{n+g + \\delta s} \\right)^{(α/(1-α))}L_tE_t  $\n",
    "\n",
    "> (13) $ \\ln(Y^*_t) = (α/(1-α)) \\left( \\ln(s) - \\ln(n+g+\\delta s)  \\right) + \\ln(E_t) + \\ln(L_t) $\n",
    "\n",
    "> (13) $ \\ln(Y^{*net}_t) = (α/(1-α)) \\left( \\ln(s) - \\ln(n+g+\\delta s)  \\right) + \\ln(E_t) + \\ln(L_t) + \\ln(n+g) - \\ln(n+g+\\delta s)) $\n",
    "\n",
    ">(14) $ Y^{*net}_t =  \\left( \\frac{n + g}{n+g+\\delta s} \\right) \\left( \\frac{s}{n+g + \\delta s} \\right)^{(α/(1-α))}L_tE_t  $\n",
    "\n",
    "&nbsp;\n",
    "\n",
    "----"
   ]
  },
  {
   "cell_type": "markdown",
   "metadata": {},
   "source": [
    "&nbsp;\n",
    "\n",
    "## <font color=\"880000\"> Solow Growth Model: What If $ s $ is the Net Rather than the Gross Savings Rate?</font>\n",
    "\n",
    "<img src=\"https://tinyurl.com/20190119a-delong\" width=\"300\" style=\"float:right\" />\n",
    "\n",
    "### <font color=\"000088\">Catch Our Breath—Further Notes:</font>\n",
    "\n",
    "<br clear=\"all\" />\n",
    "\n",
    "----\n",
    "\n",
    "* Weblog Support <https://github.com/braddelong/LS2019/blob/master/SGM-s-net-savings-rate.ipynb>\n",
    "* nbViewer <https://nbviewer.jupyter.org/github/braddelong/LS2019/blob/master/SGM-s-net-savings-rate.ipynb>\n",
    "\n",
    "&nbsp;\n",
    "\n",
    "----"
   ]
  }
 ],
 "metadata": {
  "kernelspec": {
   "display_name": "Python 3",
   "language": "python",
   "name": "python3"
  },
  "language_info": {
   "codemirror_mode": {
    "name": "ipython",
    "version": 3
   },
   "file_extension": ".py",
   "mimetype": "text/x-python",
   "name": "python",
   "nbconvert_exporter": "python",
   "pygments_lexer": "ipython3",
   "version": "3.6.7"
  }
 },
 "nbformat": 4,
 "nbformat_minor": 4
}
