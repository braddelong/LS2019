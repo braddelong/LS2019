{
 "cells": [
  {
   "cell_type": "markdown",
   "metadata": {},
   "source": [
    "## <font color=\"880000\"> Solow Growth Model: What If _s_ is the Net Rather than the Gross Savings Rate? </font>\n",
    "\n",
    "Last edited: 2019-08-17\n",
    "\n",
    "Definition of capital-output ratio:\n",
    "\n",
    ">(1) $ κ_t = \\frac{K_t}{Y_t} $\n",
    "\n",
    "Factor accumulation:\n",
    "\n",
    ">(2) $ \\frac{dL_t}{dt} = nL_t $\n",
    "\n",
    ">(3) $ \\frac{dE_t}{dt} = gE_t $\n",
    "\n",
    ">(4) $ \\frac{dK_t}{dt} = s(Y_t - \\delta K_t) $\n",
    "\n",
    ">(5) $ \\frac{dK_t}{dt} = s(1 - \\delta κ_t)Y_t $\n",
    "\n",
    "Production function:\n",
    "\n",
    ">(6) $ Y_t = K_t^α(L_tE_t)^{(1-α)} $\n",
    "\n",
    ">(7) $ Y_t = κ_t^{(α/(1-α))}L_tE_t $\n",
    "\n",
    ">(8) $ κ^* = \\frac{s(1 - \\delta κ^*)}{n+g} $\n",
    "\n",
    ">(9) $ κ^* + \\delta κ^* \\frac{s}{n+g} = \\frac{s}{n+g} $\n",
    "\n",
    ">(10) $ κ^* \\left( \\frac{n + g + \\delta s}{n+g} \\right)  = \\frac{s}{n+g} $\n",
    "\n",
    ">(11) $ κ^* = \\frac{s}{n+g + \\delta s} $\n",
    "\n",
    ">(12) $ Y^*_t = \\left( \\frac{s}{n+g + \\delta s} \\right)^{(α/(1-α))}L_tE_t  $\n",
    "\n",
    "> (13) $ \\ln(Y^*_t) = (α/(1-α)) \\left( \\ln(s) - \\ln(n+g+\\delta s)  \\right) + \\ln(E_t) + \\ln(L_t) $\n",
    "\n",
    "> (13) $ \\ln(Y^{*net}_t) = (α/(1-α)) \\left( \\ln(s) - \\ln(n+g+\\delta s)  \\right) + \\ln(E_t) + \\ln(L_t) + \\ln(n+g) - \\ln(n+g+\\delta s)) $\n",
    "\n",
    ">(14) $ Y^{*net}_t =  \\left( \\frac{n + g}{n+g+\\delta s} \\right) \\left( \\frac{s}{n+g + \\delta s} \\right)^{(α/(1-α))}L_tE_t  $"
   ]
  }
 ],
 "metadata": {
  "kernelspec": {
   "display_name": "",
   "name": ""
  },
  "language_info": {
   "name": ""
  }
 },
 "nbformat": 4,
 "nbformat_minor": 4
}
